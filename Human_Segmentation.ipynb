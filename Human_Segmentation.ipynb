{
  "nbformat": 4,
  "nbformat_minor": 0,
  "metadata": {
    "colab": {
      "provenance": [],
      "gpuType": "T4",
      "authorship_tag": "ABX9TyNzk98dLp+rBNWSC2Llt3w+",
      "include_colab_link": true
    },
    "kernelspec": {
      "name": "python3",
      "display_name": "Python 3"
    },
    "language_info": {
      "name": "python"
    },
    "accelerator": "GPU"
  },
  "cells": [
    {
      "cell_type": "markdown",
      "metadata": {
        "id": "view-in-github",
        "colab_type": "text"
      },
      "source": [
        "<a href=\"https://colab.research.google.com/github/samyarsworld/Human-segmentation-deep-learning/blob/main/Human_Segmentation.ipynb\" target=\"_parent\"><img src=\"https://colab.research.google.com/assets/colab-badge.svg\" alt=\"Open In Colab\"/></a>"
      ]
    },
    {
      "cell_type": "markdown",
      "source": [
        "# Human Segmentation\n",
        "\n",
        "### 0. Clone Repository:\n",
        "Clone the repository and move to the corresponding directory. The directory includes the two sub-directories of segmented images and their corresponding images and a helper function.\n",
        "\n",
        "Repository address: https://github.com/samyarsworld/Human-segmentation-deep-learning"
      ],
      "metadata": {
        "id": "uLhgqSW2420C"
      }
    },
    {
      "cell_type": "code",
      "source": [
        "!git clone https://github.com/samyarsworld/Human-segmentation-deep-learning\n",
        "%cd Human-segmentation-deep-learning"
      ],
      "metadata": {
        "id": "IEKTuN4QN8od"
      },
      "execution_count": null,
      "outputs": []
    },
    {
      "cell_type": "markdown",
      "source": [
        "### 1. Install Segmentation Models and Change Runtime:\n",
        "Change the Colab runtime to support the latest available GPU (T4 at this time)"
      ],
      "metadata": {
        "id": "UONyi3vVOAQq"
      }
    },
    {
      "cell_type": "code",
      "source": [
        "!pip install -U segmentation-models-pytorch\n",
        "!pip install -U git+https://github.com/albumentations-team/albumentations\n",
        "!pip install -U opencv-contrib-python"
      ],
      "metadata": {
        "id": "ndBphcRSwPDl"
      },
      "execution_count": null,
      "outputs": []
    },
    {
      "cell_type": "markdown",
      "source": [
        "**\"opencv-contrib-python\":** Refers to the Python package that contains the extra modules or extensions for the OpenCV (Open Source Computer Vision Library) that are not included in the standard OpenCV package. These extra modules provide additional functionality and tools for various computer vision tasks.  \n",
        "**Albumentations:** Provides a wide range of image augmentation techniques that can be easily applied to image data, such as rotations, flips, color adjustments, blur, and more. The library is known for its speed and efficiency, making it suitable for real-time data augmentation during model training.  \n",
        "**segmentation-models-pytorch:** Offers a collection of pre-trained models and various segmentation architectures that you can use for your own image segmentation projects. These models are often based on state-of-the-art deep learning architectures and can be fine-tuned for specific tasks or used as feature extractors."
      ],
      "metadata": {
        "id": "MdoYIfL1Ebum"
      }
    },
    {
      "cell_type": "markdown",
      "source": [
        "### 3. Import Required Libraries and Functions:"
      ],
      "metadata": {
        "id": "2aDd9k646fKi"
      }
    },
    {
      "cell_type": "code",
      "source": [
        "import torch\n",
        "import numpy as np\n",
        "import pandas as pd\n",
        "import matplotlib.pyplot as plt\n",
        "\n",
        "from sklearn.model_selection import train_test_split\n",
        "from tqdm import tqdm\n",
        "\n",
        "import cv2\n",
        "# from helper_functions import accuracy_fn"
      ],
      "metadata": {
        "id": "1fcR0VeQ7AK9"
      },
      "execution_count": null,
      "outputs": []
    },
    {
      "cell_type": "markdown",
      "source": [
        "### 4. Setup Initial Configurations:"
      ],
      "metadata": {
        "id": "vDXQBrzy7YPy"
      }
    },
    {
      "cell_type": "code",
      "source": [],
      "metadata": {
        "id": "QoIVXluQ7gsC"
      },
      "execution_count": null,
      "outputs": []
    },
    {
      "cell_type": "markdown",
      "source": [
        "### 5. Setup Augmentation Functions\n",
        "These function are incorporated by referring to albumentation documentation : https://albumentations.ai/docs/"
      ],
      "metadata": {
        "id": "LewLIKaa7kZb"
      }
    },
    {
      "cell_type": "code",
      "source": [],
      "metadata": {
        "id": "qSyTv42J8Jmo"
      },
      "execution_count": null,
      "outputs": []
    },
    {
      "cell_type": "markdown",
      "source": [
        "### 6. Create Custom Dataset"
      ],
      "metadata": {
        "id": "nkhs69h-73Dx"
      }
    },
    {
      "cell_type": "code",
      "source": [],
      "metadata": {
        "id": "5Ycnal_28IF7"
      },
      "execution_count": null,
      "outputs": []
    },
    {
      "cell_type": "markdown",
      "source": [
        "### 7. Batch the Dataset"
      ],
      "metadata": {
        "id": "adcj9lo48AP4"
      }
    },
    {
      "cell_type": "code",
      "source": [],
      "metadata": {
        "id": "Z9ZFijW28IrA"
      },
      "execution_count": null,
      "outputs": []
    },
    {
      "cell_type": "markdown",
      "source": [
        "### 8. Create The Segmentation Model"
      ],
      "metadata": {
        "id": "SKh1vg928Kk5"
      }
    },
    {
      "cell_type": "code",
      "source": [],
      "metadata": {
        "id": "G31OCI548OSA"
      },
      "execution_count": null,
      "outputs": []
    },
    {
      "cell_type": "markdown",
      "source": [
        "### 9. Create Train and Validation Function"
      ],
      "metadata": {
        "id": "FRaLNV5t8Quc"
      }
    },
    {
      "cell_type": "code",
      "source": [],
      "metadata": {
        "id": "nOJv6Apm8ThM"
      },
      "execution_count": null,
      "outputs": []
    },
    {
      "cell_type": "markdown",
      "source": [
        "### 10. Train Model"
      ],
      "metadata": {
        "id": "e2AqBB8_8VEb"
      }
    },
    {
      "cell_type": "code",
      "source": [],
      "metadata": {
        "id": "J1nChBCF8XSX"
      },
      "execution_count": null,
      "outputs": []
    },
    {
      "cell_type": "markdown",
      "source": [
        "### 11. Inference and Predictions"
      ],
      "metadata": {
        "id": "C5P9HprU8XZb"
      }
    },
    {
      "cell_type": "code",
      "source": [],
      "metadata": {
        "id": "NDmTzdOU8ayS"
      },
      "execution_count": null,
      "outputs": []
    }
  ]
}